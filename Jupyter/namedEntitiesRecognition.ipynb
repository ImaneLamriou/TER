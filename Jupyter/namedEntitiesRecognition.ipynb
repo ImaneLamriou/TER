{
 "cells": [
  {
   "cell_type": "code",
   "execution_count": 1,
   "metadata": {},
   "outputs": [
    {
     "name": "stdout",
     "output_type": "stream",
     "text": [
      "namedEntitiesRecognition.ipynb  tagmeTestCode.ipynb\r\n",
      "pagellaPoliticaIT.ipynb         testNLTK.ipynb\r\n",
      "remove_punctuation.ipynb        text.txt\r\n",
      "spaCy.ipynb                     text3.txt\r\n",
      "tagmeOfficial.ipynb\r\n"
     ]
    }
   ],
   "source": [
    "%ls"
   ]
  },
  {
   "cell_type": "code",
   "execution_count": 2,
   "metadata": {},
   "outputs": [
    {
     "name": "stdout",
     "output_type": "stream",
     "text": [
      "/Users/su6i/Amir/gitProjects/myGitProjects/S2/TER/TER\n"
     ]
    }
   ],
   "source": [
    "%cd .."
   ]
  },
  {
   "cell_type": "code",
   "execution_count": 3,
   "metadata": {},
   "outputs": [
    {
     "name": "stdout",
     "output_type": "stream",
     "text": [
      "\u001b[1m\u001b[36mJupyter\u001b[m\u001b[m/          \u001b[1m\u001b[36mdataBase\u001b[m\u001b[m/         \u001b[1m\u001b[36mlibrary\u001b[m\u001b[m/          requirements.txt\r\n",
      "README.md         \u001b[1m\u001b[36mextractors\u001b[m\u001b[m/       \u001b[31mmain.py\u001b[m\u001b[m*          \u001b[1m\u001b[36mresources\u001b[m\u001b[m/\r\n"
     ]
    }
   ],
   "source": [
    "%ls"
   ]
  },
  {
   "cell_type": "code",
   "execution_count": 4,
   "metadata": {},
   "outputs": [
    {
     "name": "stdout",
     "output_type": "stream",
     "text": [
      "[Errno 2] No such file or directory: 'TER'\n",
      "/Users/su6i/Amir/gitProjects/myGitProjects/S2/TER/TER\n"
     ]
    }
   ],
   "source": [
    "%cd TER"
   ]
  },
  {
   "cell_type": "code",
   "execution_count": 5,
   "metadata": {},
   "outputs": [
    {
     "name": "stdout",
     "output_type": "stream",
     "text": [
      "\u001b[1m\u001b[36mJupyter\u001b[m\u001b[m/          \u001b[1m\u001b[36mdataBase\u001b[m\u001b[m/         \u001b[1m\u001b[36mlibrary\u001b[m\u001b[m/          requirements.txt\r\n",
      "README.md         \u001b[1m\u001b[36mextractors\u001b[m\u001b[m/       \u001b[31mmain.py\u001b[m\u001b[m*          \u001b[1m\u001b[36mresources\u001b[m\u001b[m/\r\n"
     ]
    }
   ],
   "source": [
    "%ls"
   ]
  },
  {
   "cell_type": "code",
   "execution_count": 6,
   "metadata": {},
   "outputs": [
    {
     "data": {
      "application/json": {
       "cell": {
        "!": "OSMagics",
        "HTML": "Other",
        "SVG": "Other",
        "bash": "Other",
        "capture": "ExecutionMagics",
        "debug": "ExecutionMagics",
        "file": "Other",
        "html": "DisplayMagics",
        "javascript": "DisplayMagics",
        "js": "DisplayMagics",
        "latex": "DisplayMagics",
        "markdown": "DisplayMagics",
        "perl": "Other",
        "prun": "ExecutionMagics",
        "pypy": "Other",
        "python": "Other",
        "python2": "Other",
        "python3": "Other",
        "ruby": "Other",
        "script": "ScriptMagics",
        "sh": "Other",
        "svg": "DisplayMagics",
        "sx": "OSMagics",
        "system": "OSMagics",
        "time": "ExecutionMagics",
        "timeit": "ExecutionMagics",
        "writefile": "OSMagics"
       },
       "line": {
        "alias": "OSMagics",
        "alias_magic": "BasicMagics",
        "autoawait": "AsyncMagics",
        "autocall": "AutoMagics",
        "automagic": "AutoMagics",
        "autosave": "KernelMagics",
        "bookmark": "OSMagics",
        "cat": "Other",
        "cd": "OSMagics",
        "clear": "KernelMagics",
        "colors": "BasicMagics",
        "conda": "PackagingMagics",
        "config": "ConfigMagics",
        "connect_info": "KernelMagics",
        "cp": "Other",
        "debug": "ExecutionMagics",
        "dhist": "OSMagics",
        "dirs": "OSMagics",
        "doctest_mode": "BasicMagics",
        "ed": "Other",
        "edit": "KernelMagics",
        "env": "OSMagics",
        "gui": "BasicMagics",
        "hist": "Other",
        "history": "HistoryMagics",
        "killbgscripts": "ScriptMagics",
        "ldir": "Other",
        "less": "KernelMagics",
        "lf": "Other",
        "lk": "Other",
        "ll": "Other",
        "load": "CodeMagics",
        "load_ext": "ExtensionMagics",
        "loadpy": "CodeMagics",
        "logoff": "LoggingMagics",
        "logon": "LoggingMagics",
        "logstart": "LoggingMagics",
        "logstate": "LoggingMagics",
        "logstop": "LoggingMagics",
        "ls": "Other",
        "lsmagic": "BasicMagics",
        "lx": "Other",
        "macro": "ExecutionMagics",
        "magic": "BasicMagics",
        "man": "KernelMagics",
        "matplotlib": "PylabMagics",
        "mkdir": "Other",
        "more": "KernelMagics",
        "mv": "Other",
        "notebook": "BasicMagics",
        "page": "BasicMagics",
        "pastebin": "CodeMagics",
        "pdb": "ExecutionMagics",
        "pdef": "NamespaceMagics",
        "pdoc": "NamespaceMagics",
        "pfile": "NamespaceMagics",
        "pinfo": "NamespaceMagics",
        "pinfo2": "NamespaceMagics",
        "pip": "PackagingMagics",
        "popd": "OSMagics",
        "pprint": "BasicMagics",
        "precision": "BasicMagics",
        "prun": "ExecutionMagics",
        "psearch": "NamespaceMagics",
        "psource": "NamespaceMagics",
        "pushd": "OSMagics",
        "pwd": "OSMagics",
        "pycat": "OSMagics",
        "pylab": "PylabMagics",
        "qtconsole": "KernelMagics",
        "quickref": "BasicMagics",
        "recall": "HistoryMagics",
        "rehashx": "OSMagics",
        "reload_ext": "ExtensionMagics",
        "rep": "Other",
        "rerun": "HistoryMagics",
        "reset": "NamespaceMagics",
        "reset_selective": "NamespaceMagics",
        "rm": "Other",
        "rmdir": "Other",
        "run": "ExecutionMagics",
        "save": "CodeMagics",
        "sc": "OSMagics",
        "set_env": "OSMagics",
        "store": "StoreMagics",
        "sx": "OSMagics",
        "system": "OSMagics",
        "tb": "ExecutionMagics",
        "time": "ExecutionMagics",
        "timeit": "ExecutionMagics",
        "unalias": "OSMagics",
        "unload_ext": "ExtensionMagics",
        "who": "NamespaceMagics",
        "who_ls": "NamespaceMagics",
        "whos": "NamespaceMagics",
        "xdel": "NamespaceMagics",
        "xmode": "BasicMagics"
       }
      },
      "text/plain": [
       "Available line magics:\n",
       "%alias  %alias_magic  %autoawait  %autocall  %automagic  %autosave  %bookmark  %cat  %cd  %clear  %colors  %conda  %config  %connect_info  %cp  %debug  %dhist  %dirs  %doctest_mode  %ed  %edit  %env  %gui  %hist  %history  %killbgscripts  %ldir  %less  %lf  %lk  %ll  %load  %load_ext  %loadpy  %logoff  %logon  %logstart  %logstate  %logstop  %ls  %lsmagic  %lx  %macro  %magic  %man  %matplotlib  %mkdir  %more  %mv  %notebook  %page  %pastebin  %pdb  %pdef  %pdoc  %pfile  %pinfo  %pinfo2  %pip  %popd  %pprint  %precision  %prun  %psearch  %psource  %pushd  %pwd  %pycat  %pylab  %qtconsole  %quickref  %recall  %rehashx  %reload_ext  %rep  %rerun  %reset  %reset_selective  %rm  %rmdir  %run  %save  %sc  %set_env  %store  %sx  %system  %tb  %time  %timeit  %unalias  %unload_ext  %who  %who_ls  %whos  %xdel  %xmode\n",
       "\n",
       "Available cell magics:\n",
       "%%!  %%HTML  %%SVG  %%bash  %%capture  %%debug  %%file  %%html  %%javascript  %%js  %%latex  %%markdown  %%perl  %%prun  %%pypy  %%python  %%python2  %%python3  %%ruby  %%script  %%sh  %%svg  %%sx  %%system  %%time  %%timeit  %%writefile\n",
       "\n",
       "Automagic is ON, % prefix IS NOT needed for line magics."
      ]
     },
     "execution_count": 6,
     "metadata": {},
     "output_type": "execute_result"
    }
   ],
   "source": [
    "%lsmagic"
   ]
  },
  {
   "cell_type": "code",
   "execution_count": 7,
   "metadata": {},
   "outputs": [],
   "source": [
    "import tagme\n",
    "import logging\n",
    "import sys\n",
    "import os.path\n",
    "import library.extraction as ter"
   ]
  },
  {
   "cell_type": "code",
   "execution_count": 8,
   "metadata": {},
   "outputs": [],
   "source": [
    "tagme.GCUBE_TOKEN = \"7d611b53-1694-4c90-8b18-8ba26a30c03b-843339462\"\n",
    "program = os.path.basename(sys.argv[0])\n",
    "logger = logging.getLogger(program)\n",
    "logging.basicConfig(format='%(asctime)s: %(levelname)s: %(message)s')\n",
    "language = \"it\""
   ]
  },
  {
   "cell_type": "code",
   "execution_count": 9,
   "metadata": {},
   "outputs": [
    {
     "name": "stdout",
     "output_type": "stream",
     "text": [
      "https://pagellapolitica.it/dichiarazioni/8553/salvini-chiede-di-riaprire-il-parlamento-dove-ha-il-10-per-cento-di-presenze\n",
      "id: 8553\n"
     ]
    }
   ],
   "source": [
    "url = 'https://pagellapolitica.it/dichiarazioni/8553/salvini-chiede-di-riaprire-il-parlamento-dove-ha-il-10-per-cento-di-presenze'\n",
    "print(url)\n",
    "id = ter.idNumber(url)\n",
    "print(\"id:\",id)"
   ]
  },
  {
   "cell_type": "code",
   "execution_count": 10,
   "metadata": {},
   "outputs": [
    {
     "name": "stdout",
     "output_type": "stream",
     "text": [
      "https://pagellapolitica.it/dichiarazioni/8553\n"
     ]
    }
   ],
   "source": [
    "data = ter.extractInfoArticle(id, online=True)"
   ]
  },
  {
   "cell_type": "code",
   "execution_count": 11,
   "metadata": {},
   "outputs": [
    {
     "name": "stdout",
     "output_type": "stream",
     "text": [
      "author: Rosalba Cimino \n",
      "claim: «Il senatore Salvini dall’alto del suo 10% di presenze in Senato, chiede di aprire il Parlamento che non si è mai fermato» \n",
      "tagList: Senato salvini Camera dei deputati Assenze in Senato\n",
      "===================================================================================================================\n",
      "La deputata del M5s Rosalba Cimino il 22 marzo ha criticato sulla sua pagina Facebook le richieste di Matteo Salvini di «riaprire il Parlamento» sottolineando due elementi: che il Parlamento non si è mai fermato durante l’emergenza coronavirus e che Salvini in ogni caso è stato presente appena nel 10 per cento dei casi nel corso della legislatura. Andiamo a verificare se è vero. Il Parlamento italiano ai tempi della Covid-19 Il Parlamento italiano è in effetti aperto, come testimoniano i resoconti dei lavori sia del Senato sia della Camera, ma si sta riunendo con una frequenza minore rispetto al solito. A marzo 2019 (fino al 23 incluso), ad esempio, l’Assemblea del Senato si era riunita sei volte, contro le quattro volte del marzo 2020. L’Assemblea della Camera, sempre a marzo (fino al 23 incluso) del 2019 si era riunita addirittura 13 volte, contro le cinque volte del marzo 2020. Se dunque è vero, come affermano Cimino e altri deputati del M5s, che il Parlamento non si è mai fermato – sfruttando anche la possibilità di fare videoconferenze nelle commissioni parlamentari – è anche vero che durante questo periodo di emergenza le Aule di Camera e Senato si sono riunite meno spesso di quanto non accada normalmente. Alla richiesta di Salvini si sommano poi quelle di altri esponenti di spicco dell’opposizione, come ad esempio Giorgia Meloni, leader di Fratelli d’Italia, che sempre il 22 marzo ha chiesto la convocazione «immediata e a oltranza del Parlamento» . La richiesta di far riprendere i lavori del Parlamento «a pieno regime» è stata oltretutto avanzata anche da esponenti della maggioranza, ad esempio da cinque deputati di M5s, LeU e Pd, che hanno firmato un appello in proposito, e dal leader di Italia Viva, Matteo Renzi. Governo e maggioranza non possono chiudere il Parlamento Facciamo poi un’altra precisazione: il governo, e anche la maggioranza, non hanno la possibilità di “chiudere” il Parlamento in base alla Costituzione. L’articolo 62 della Carta fondamentale stabilisce infatti che «ciascuna Camera può essere convocata in via straordinaria per iniziativa del suo Presidente o del Presidente della Repubblica o di un terzo dei suoi componenti». Dunque le affermazioni sopra citate hanno senso se le inquadriamo come richieste di far ripartire l’ordinario svolgimento dei lavori in Parlamento. Non di aprire delle Aule che non sono mai state chiuse. Anche considerato che le opposizioni da sole avrebbero i numeri, in base alla Costituzione, per chiederne la convocazione straordinaria. Passiamo ora a vedere le assenze del senatore Salvini. Le assenze di Salvini La bassa percentuale di presenze di Salvini è da tempo bersaglio di critiche. Ne avevamo scritto ad esempio già a novembre 2019 quando, da inizio legislatura al 21 del mese, le presenze del leader della Lega nelle votazioni del Senato erano pari al 7 per cento del totale: 390 voti espressi su 5.569 votazioni. Questa percentuale rappresentava allora il quinto dato peggiore di Palazzo Madama, dietro a due senatori a vita e ai senatori Riccardo Merlo (eletto all’estero e ora nel Misto) e Maria Bogo Deledda (M5s, gravemente malata per lungo tempo e oggi scomparsa). Al 23 marzo 2020, come riporta il sito OpenPolis – che da più di dieci anni cura il progetto OpenParlamento, dove vengono monitorate le attività dei parlamentari e le partecipazioni alle votazioni elettroniche, e che la deputata Cimino cita esplicitamente nel suo post Facebook – le presenze di Salvini sono salite al 10 per cento del totale: 579 voti espressi su 5.788 votazioni (l’ultimo voto è del 4 marzo). Il restante 90 per cento è quasi interamente assorbito dalla categoria “in missione”, molto utilizzata – come avevamo verificato, a volte impropriamente – da Salvini quando era ministro dell’Interno, e anche successivamente. Salvini quasi sempre presente negli ultimi mesi Ma proprio dal confronto tra i numeri di novembre 2019 e quelli attuali permette di fare un’ulteriore considerazione, che indebolisce – almeno relativamente agli ultimi mesi – le accuse di assenteismo al leader della Lega. Dal 21 novembre 2019 al 23 marzo 2020, infatti, le votazioni totali conteggiate sono passate da 5.569 a 5.788, dunque 219 in più. I voti espressi da Salvini sono passati nello stesso periodo da 390 a 579, dunque 189 in più. Facendo una proporzione possiamo insomma dire che negli ultimi quattro mesi circa (da fine novembre 2019 a fine marzo 2020) Matteo Salvini, che non ricopre più incarichi di governo da settembre 2019, è stato presente nell’86,3 per cento dei voti. Il verdetto La deputata del M5s Cimino ha stigmatizzato le richieste di Salvini di “riaprire” il Parlamento sostenendo che questo sia già aperto e che il leader della Lega ha comunque una percentuale di presenze pari a solo il 10 per cento del totale. Sostanzialmente Cimino ha ragione: il Parlamento è ufficialmente aperto e le presenze di Salvini, secondo il calcolo di OpenPolis, sono in effetti il 10 per cento del totale. Bisogna però fare alcune considerazioni ulteriori: se è vero che il Parlamento sia aperto, è anche vero che sta lavorando con un ritmo più rallentato rispetto alla normalità. Inoltre Salvini ha una percentuale di presenze molto bassa, ma una di assenze bassissima: per quasi il 90 per cento dei casi il leader della Lega risulta (con le polemiche di cui abbiamo dato conto) “in missione”. Infine possiamo anche notare come negli ultimi mesi la percentuale di presenze di Salvini alle votazioni conteggiate da OpenPolis sia significativamente cresciuta. Dunque per Cimino un “C’eri quasi”. Rosalba Cimino «Il senatore Salvini dall’alto del suo 10% di presenze in Senato, chiede di aprire il Parlamento che non si è mai fermato» Senato salvini Camera dei deputati Assenze in Senato \n"
     ]
    }
   ],
   "source": [
    "body = data[id]['body']\n",
    "author = data[id]['author']\n",
    "claim = data[id]['claim']\n",
    "tags = data[id]['tags']\n",
    "tagList = ter.listToString(tags)\n",
    "print(\"author:\",author,\"\\nclaim:\",claim,\"\\ntagList:\",tagList)\n",
    "language = \"it\"\n",
    "\n",
    "#for tag in tags:\n",
    "acc_data = ter.accumulate(body,author,claim,tagList)\n",
    "print(\"=\"*115)\n",
    "print(acc_data)"
   ]
  },
  {
   "cell_type": "code",
   "execution_count": 12,
   "metadata": {},
   "outputs": [
    {
     "name": "stdout",
     "output_type": "stream",
     "text": [
      "https://it.wikipedia.org/wiki/M5s\n",
      "https://it.wikipedia.org/wiki/Rosalba\n",
      "https://it.wikipedia.org/wiki/Cimino\n",
      "https://it.wikipedia.org/wiki/Il_22\n",
      "https://it.wikipedia.org/wiki/Marzo\n",
      "https://it.wikipedia.org/wiki/Sulla\n",
      "https://it.wikipedia.org/wiki/Sua\n",
      "https://it.wikipedia.org/wiki/Facebook\n",
      "https://it.wikipedia.org/wiki/Di_Matteo\n",
      "https://it.wikipedia.org/wiki/Matteo_Salvini\n",
      "https://it.wikipedia.org/wiki/Parlamento\n",
      "https://it.wikipedia.org/wiki/Che\n",
      "https://it.wikipedia.org/wiki/Durante\n",
      "https://it.wikipedia.org/wiki/Emergenza\n",
      "https://it.wikipedia.org/wiki/Coronavirus\n",
      "https://it.wikipedia.org/wiki/Ogni\n",
      "https://it.wikipedia.org/wiki/Caso\n",
      "https://it.wikipedia.org/wiki/Presente\n",
      "https://it.wikipedia.org/wiki/Cento\n",
      "https://it.wikipedia.org/wiki/Casi\n",
      "https://it.wikipedia.org/wiki/Corso\n",
      "https://it.wikipedia.org/wiki/Della\n",
      "https://it.wikipedia.org/wiki/Andiamo\n",
      "https://it.wikipedia.org/wiki/Se_è\n",
      "https://it.wikipedia.org/wiki/Vero\n",
      "https://it.wikipedia.org/wiki/Italiano\n",
      "https://it.wikipedia.org/wiki/Tempi\n",
      "https://it.wikipedia.org/wiki/Aperto\n",
      "https://it.wikipedia.org/wiki/Come\n",
      "https://it.wikipedia.org/wiki/Sia\n",
      "https://it.wikipedia.org/wiki/Una\n",
      "https://it.wikipedia.org/wiki/Minore\n",
      "https://it.wikipedia.org/wiki/Fino\n",
      "https://it.wikipedia.org/wiki/Sei\n",
      "https://it.wikipedia.org/wiki/Le_quattro_volte\n",
      "https://it.wikipedia.org/wiki/Sempre\n",
      "https://it.wikipedia.org/wiki/Cinque\n",
      "https://it.wikipedia.org/wiki/Altri\n",
      "https://it.wikipedia.org/wiki/Fare\n",
      "https://it.wikipedia.org/wiki/Nelle\n",
      "https://it.wikipedia.org/wiki/Aule\n",
      "https://it.wikipedia.org/wiki/Sono\n",
      "https://it.wikipedia.org/wiki/Riunite\n",
      "https://it.wikipedia.org/wiki/Meno\n",
      "https://it.wikipedia.org/wiki/Quanto\n",
      "https://it.wikipedia.org/wiki/Poi\n",
      "https://it.wikipedia.org/wiki/Quelle\n",
      "https://it.wikipedia.org/wiki/Dell\n",
      "https://it.wikipedia.org/wiki/Giorgia_Meloni\n",
      "https://it.wikipedia.org/wiki/Fratelli_d’Italia\n",
      "https://it.wikipedia.org/wiki/Regime\n",
      "https://it.wikipedia.org/wiki/Stata\n",
      "https://it.wikipedia.org/wiki/LeU\n",
      "https://it.wikipedia.org/wiki/Pd\n",
      "https://it.wikipedia.org/wiki/Hanno\n",
      "https://it.wikipedia.org/wiki/Appello\n",
      "https://it.wikipedia.org/wiki/Proposito\n",
      "https://it.wikipedia.org/wiki/Viva\n",
      "https://it.wikipedia.org/wiki/Matteo_Renzi\n",
      "https://it.wikipedia.org/wiki/Governo\n",
      "https://it.wikipedia.org/wiki/Base\n",
      "https://it.wikipedia.org/wiki/Carta\n",
      "https://it.wikipedia.org/wiki/Può\n",
      "https://it.wikipedia.org/wiki/Essere\n",
      "https://it.wikipedia.org/wiki/Suo\n",
      "https://it.wikipedia.org/wiki/Presidente\n",
      "https://it.wikipedia.org/wiki/Repubblica\n",
      "https://it.wikipedia.org/wiki/Terzo\n",
      "https://it.wikipedia.org/wiki/Suoi\n",
      "https://it.wikipedia.org/wiki/Senso\n",
      "https://it.wikipedia.org/wiki/Delle\n",
      "https://it.wikipedia.org/wiki/Mai_state\n",
      "https://it.wikipedia.org/wiki/Sole\n",
      "https://it.wikipedia.org/wiki/Numeri\n",
      "https://it.wikipedia.org/wiki/Senatore\n",
      "https://it.wikipedia.org/wiki/Bassa\n",
      "https://it.wikipedia.org/wiki/Tempo\n",
      "https://it.wikipedia.org/wiki/Novembre\n",
      "https://it.wikipedia.org/wiki/Quando\n",
      "https://it.wikipedia.org/wiki/Al_21\n",
      "https://it.wikipedia.org/wiki/Mese\n",
      "https://it.wikipedia.org/wiki/Lega\n",
      "https://it.wikipedia.org/wiki/Erano\n",
      "https://it.wikipedia.org/wiki/Pari\n",
      "https://it.wikipedia.org/wiki/Al_7\n",
      "https://it.wikipedia.org/wiki/Su_5\n",
      "https://it.wikipedia.org/wiki/Questa\n",
      "https://it.wikipedia.org/wiki/Allora\n",
      "https://it.wikipedia.org/wiki/Quinto\n",
      "https://it.wikipedia.org/wiki/Dato\n",
      "https://it.wikipedia.org/wiki/Palazzo_Madama\n",
      "https://it.wikipedia.org/wiki/Vita\n",
      "https://it.wikipedia.org/wiki/Riccardo\n",
      "https://it.wikipedia.org/wiki/Merlo\n",
      "https://it.wikipedia.org/wiki/Estero\n",
      "https://it.wikipedia.org/wiki/Misto\n",
      "https://it.wikipedia.org/wiki/Maria\n",
      "https://it.wikipedia.org/wiki/Bogo\n",
      "https://it.wikipedia.org/wiki/Deledda\n",
      "https://it.wikipedia.org/wiki/Malata\n",
      "https://it.wikipedia.org/wiki/Lungo\n",
      "https://it.wikipedia.org/wiki/Oggi\n",
      "https://it.wikipedia.org/wiki/Sito\n",
      "https://it.wikipedia.org/wiki/Più\n",
      "https://it.wikipedia.org/wiki/Dieci\n",
      "https://it.wikipedia.org/wiki/Anni\n",
      "https://it.wikipedia.org/wiki/Cura\n",
      "https://it.wikipedia.org/wiki/Dove\n",
      "https://it.wikipedia.org/wiki/Alle\n",
      "https://it.wikipedia.org/wiki/Cita\n",
      "https://it.wikipedia.org/wiki/Post\n",
      "https://it.wikipedia.org/wiki/Al_10\n",
      "https://it.wikipedia.org/wiki/Ultimo\n",
      "https://it.wikipedia.org/wiki/Voto\n",
      "https://it.wikipedia.org/wiki/Quasi\n",
      "https://it.wikipedia.org/wiki/Dalla\n",
      "https://it.wikipedia.org/wiki/Missione\n",
      "https://it.wikipedia.org/wiki/Molto\n",
      "https://it.wikipedia.org/wiki/Interno\n",
      "https://it.wikipedia.org/wiki/Mesi\n",
      "https://it.wikipedia.org/wiki/Tra\n",
      "https://it.wikipedia.org/wiki/Agli\n",
      "https://it.wikipedia.org/wiki/Al_leader\n",
      "https://it.wikipedia.org/wiki/Nello\n",
      "https://it.wikipedia.org/wiki/Dire\n",
      "https://it.wikipedia.org/wiki/Circa\n",
      "https://it.wikipedia.org/wiki/Verdetto\n",
      "https://it.wikipedia.org/wiki/Solo\n",
      "https://it.wikipedia.org/wiki/Il_10\n",
      "https://it.wikipedia.org/wiki/Ragione\n",
      "https://it.wikipedia.org/wiki/Secondo\n",
      "https://it.wikipedia.org/wiki/Però\n",
      "https://it.wikipedia.org/wiki/Ritmo\n",
      "https://it.wikipedia.org/wiki/Cui\n",
      "https://it.wikipedia.org/wiki/Conto\n",
      "https://it.wikipedia.org/wiki/Infine\n",
      "https://it.wikipedia.org/wiki/Dall\n",
      "https://it.wikipedia.org/wiki/Alto\n",
      "https://it.wikipedia.org/wiki/Camera_dei_deputati\n"
     ]
    }
   ],
   "source": [
    "if __name__ == '__main__':\n",
    "    #f = open(\"text3.txt\", \"r\", encoding=\"utf8\")\n",
    "    #txt = f.read()\n",
    "    \n",
    "    links = ter.wikiLinks(acc_data)\n",
    "    for link in links:\n",
    "        print(link)"
   ]
  },
  {
   "cell_type": "code",
   "execution_count": null,
   "metadata": {},
   "outputs": [],
   "source": []
  }
 ],
 "metadata": {
  "kernelspec": {
   "display_name": "Python 3",
   "language": "python",
   "name": "python3"
  },
  "language_info": {
   "codemirror_mode": {
    "name": "ipython",
    "version": 3
   },
   "file_extension": ".py",
   "mimetype": "text/x-python",
   "name": "python",
   "nbconvert_exporter": "python",
   "pygments_lexer": "ipython3",
   "version": "3.7.6"
  }
 },
 "nbformat": 4,
 "nbformat_minor": 2
}
